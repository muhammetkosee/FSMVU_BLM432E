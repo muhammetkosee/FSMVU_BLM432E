{
 "cells": [
  {
   "cell_type": "code",
   "execution_count": 1,
   "metadata": {
    "collapsed": false
   },
   "outputs": [
    {
     "data": {
      "text/plain": [
       "5"
      ]
     },
     "execution_count": 1,
     "metadata": {},
     "output_type": "execute_result"
    }
   ],
   "source": [
    "17/3"
   ]
  },
  {
   "cell_type": "code",
   "execution_count": 2,
   "metadata": {
    "collapsed": false
   },
   "outputs": [
    {
     "data": {
      "text/plain": [
       "900"
      ]
     },
     "execution_count": 2,
     "metadata": {},
     "output_type": "execute_result"
    }
   ],
   "source": [
    ">>> width = 20\n",
    ">>> height = 5 * 9\n",
    ">>> width * height"
   ]
  },
  {
   "cell_type": "code",
   "execution_count": 4,
   "metadata": {
    "collapsed": false
   },
   "outputs": [
    {
     "name": "stdout",
     "output_type": "stream",
     "text": [
      "900\n"
     ]
    }
   ],
   "source": [
    ">>> width = 20\n",
    ">>> height = 5 * 9\n",
    ">>> width * height\n",
    ">>> area=width * height\n",
    "print (area)"
   ]
  },
  {
   "cell_type": "code",
   "execution_count": 5,
   "metadata": {
    "collapsed": false
   },
   "outputs": [
    {
     "ename": "NameError",
     "evalue": "name 'typr' is not defined",
     "output_type": "error",
     "traceback": [
      "\u001b[0;31m---------------------------------------------------------------------------\u001b[0m",
      "\u001b[0;31mNameError\u001b[0m                                 Traceback (most recent call last)",
      "\u001b[0;32m<ipython-input-5-f0d94a5f99d6>\u001b[0m in \u001b[0;36m<module>\u001b[0;34m()\u001b[0m\n\u001b[0;32m----> 1\u001b[0;31m \u001b[0mtypr\u001b[0m\u001b[0;34m(\u001b[0m\u001b[0marea\u001b[0m\u001b[0;34m)\u001b[0m\u001b[0;34m\u001b[0m\u001b[0m\n\u001b[0m",
      "\u001b[0;31mNameError\u001b[0m: name 'typr' is not defined"
     ]
    }
   ],
   "source": [
    "typr(area)"
   ]
  },
  {
   "cell_type": "code",
   "execution_count": 6,
   "metadata": {
    "collapsed": false
   },
   "outputs": [
    {
     "data": {
      "text/plain": [
       "int"
      ]
     },
     "execution_count": 6,
     "metadata": {},
     "output_type": "execute_result"
    }
   ],
   "source": [
    "type(area)"
   ]
  },
  {
   "cell_type": "code",
   "execution_count": 7,
   "metadata": {
    "collapsed": false
   },
   "outputs": [
    {
     "name": "stdout",
     "output_type": "stream",
     "text": [
      "<type 'int'>\n"
     ]
    }
   ],
   "source": [
    "print(type(area))"
   ]
  },
  {
   "cell_type": "code",
   "execution_count": 8,
   "metadata": {
    "collapsed": true
   },
   "outputs": [],
   "source": [
    "#yorum satırı"
   ]
  },
  {
   "cell_type": "code",
   "execution_count": 10,
   "metadata": {
    "collapsed": false
   },
   "outputs": [
    {
     "name": "stdout",
     "output_type": "stream",
     "text": [
      "3.14\n"
     ]
    }
   ],
   "source": [
    "#tip dönüşümü\n",
    "pi_string = \"3.14\"\n",
    "pi_float= float(pi_string)\n",
    "print(pi_float)"
   ]
  },
  {
   "cell_type": "code",
   "execution_count": 11,
   "metadata": {
    "collapsed": false
   },
   "outputs": [
    {
     "name": "stdout",
     "output_type": "stream",
     "text": [
      "asal sayı 53\n"
     ]
    }
   ],
   "source": [
    "#print içinde asal sayı 53 yazdırma\n",
    "savings = 53\n",
    "print (\"asal sayı \"+ str(savings))"
   ]
  },
  {
   "cell_type": "code",
   "execution_count": 12,
   "metadata": {
    "collapsed": false
   },
   "outputs": [
    {
     "ename": "TypeError",
     "evalue": "cannot concatenate 'str' and 'int' objects",
     "output_type": "error",
     "traceback": [
      "\u001b[0;31m---------------------------------------------------------------------------\u001b[0m",
      "\u001b[0;31mTypeError\u001b[0m                                 Traceback (most recent call last)",
      "\u001b[0;32m<ipython-input-12-92690e89e726>\u001b[0m in \u001b[0;36m<module>\u001b[0;34m()\u001b[0m\n\u001b[1;32m      1\u001b[0m \u001b[0msavings\u001b[0m \u001b[0;34m=\u001b[0m \u001b[0;36m53\u001b[0m\u001b[0;34m\u001b[0m\u001b[0m\n\u001b[0;32m----> 2\u001b[0;31m \u001b[0;32mprint\u001b[0m \u001b[0;34m(\u001b[0m\u001b[0;34m\"asal sayı \"\u001b[0m\u001b[0;34m+\u001b[0m \u001b[0msavings\u001b[0m\u001b[0;34m)\u001b[0m\u001b[0;34m\u001b[0m\u001b[0m\n\u001b[0m",
      "\u001b[0;31mTypeError\u001b[0m: cannot concatenate 'str' and 'int' objects"
     ]
    }
   ],
   "source": [
    "savings = 53\n",
    "print (\"asal sayı \"+ savings)"
   ]
  },
  {
   "cell_type": "code",
   "execution_count": 13,
   "metadata": {
    "collapsed": false
   },
   "outputs": [
    {
     "data": {
      "text/plain": [
       "1"
      ]
     },
     "execution_count": 13,
     "metadata": {},
     "output_type": "execute_result"
    }
   ],
   "source": [
    "\n",
    "True+False"
   ]
  },
  {
   "cell_type": "code",
   "execution_count": 14,
   "metadata": {
    "collapsed": false
   },
   "outputs": [
    {
     "name": "stdout",
     "output_type": "stream",
     "text": [
      "[11.25, 18.6, 26, 10.75, 'test']\n"
     ]
    }
   ],
   "source": [
    "#area variables (in squaer meters)\n",
    "#pitondaki dizilerde farklı veri tiplerini yazabiliyorsun\n",
    "hall=11.25\n",
    "kit=18.6\n",
    "liv=26\n",
    "bed=10.75\n",
    "bath= \"test\"\n",
    "\n",
    "#list area oluşturma\n",
    "areas= [hall, kit, liv, bed, bath]\n",
    "\n",
    "#print areas\n",
    "print(areas)"
   ]
  },
  {
   "cell_type": "code",
   "execution_count": 16,
   "metadata": {
    "collapsed": false
   },
   "outputs": [
    {
     "name": "stdout",
     "output_type": "stream",
     "text": [
      "['hallway', 11.25, 'kitchen', 18.6, 'livingroom', 26, 'bedroom', 10.75, 'test']\n"
     ]
    }
   ],
   "source": [
    "hall=11.25\n",
    "kit=18.6\n",
    "liv=26\n",
    "bed=10.75\n",
    "bath= \"test\"\n",
    "\n",
    "#list area oluşturma\n",
    "areas= ['hallway',hall, \"kitchen\",kit, \"livingroom\", liv, \"bedroom\",bed, bath]\n",
    "\n",
    "#print areas\n",
    "print(areas)"
   ]
  },
  {
   "cell_type": "code",
   "execution_count": 19,
   "metadata": {
    "collapsed": false
   },
   "outputs": [
    {
     "name": "stdout",
     "output_type": "stream",
     "text": [
      "[3, 'Besiktas Besiktas ']\n"
     ]
    }
   ],
   "source": [
    "#listenin içinde piton hesaplama yapabiliyor\n",
    "a=[1+2, \"Besiktas \"*2]\n",
    "print(a)"
   ]
  },
  {
   "cell_type": "code",
   "execution_count": 20,
   "metadata": {
    "collapsed": false
   },
   "outputs": [
    {
     "name": "stdout",
     "output_type": "stream",
     "text": [
      "[['kitchen', 18.6], ['livroom', 26]]\n"
     ]
    }
   ],
   "source": [
    "#listenin hashmap gibi yazılması\n",
    "kit=18.6\n",
    "liv=26\n",
    "bed=10.75\n",
    "\n",
    "house = [[\"kitchen\", kit],\n",
    "         [\"livroom\", liv]]\n",
    "\n",
    "print(house)"
   ]
  },
  {
   "cell_type": "code",
   "execution_count": 27,
   "metadata": {
    "collapsed": false
   },
   "outputs": [
    {
     "name": "stdout",
     "output_type": "stream",
     "text": [
      "11.25\n",
      "9.58\n",
      "32.1\n",
      "['hallway', 11.25, 'kitchen', 18.6, 'living room', 25.6]\n",
      "['bedroom', 6.5, 'bathroom', 9.58]\n",
      "[25.6, 'bedroom', 6.5, 'bathroom']\n",
      "['bedroom', 6.5, 'bathroom']\n"
     ]
    }
   ],
   "source": [
    "#piton indeksinde liste sıfırdan başlıyor\n",
    "#yani ilk indeks 0.indeks\n",
    "\n",
    "areas =[\"hallway\", 11.25, \"kitchen\", 18.6, \"living room\", 25.6, \"bedroom\", 6.5, \"bathroom\", 9.58]\n",
    "\n",
    "#ikinci elemanı yazdırma\n",
    "print(areas[1])\n",
    "\n",
    "#son elemanı yazdırma\n",
    "print(areas[-1])\n",
    "\n",
    "#iki odanın toplamı\n",
    "liv_n_bed_area=areas[5]+areas[7]\n",
    "print(liv_n_bed_area)\n",
    "\n",
    "#areas[start:end] işlemi, baştan 6.elemana kadar(0,1,2,3,4,5)\n",
    "downstairs=areas[0:6]\n",
    "print(downstairs)\n",
    "\n",
    "#6.elemandan sonra kadar\n",
    "upstairs=areas[6:]\n",
    "print(upstairs)\n",
    "\n",
    "#-1 yazınca son elemanı yazmıyor\n",
    "areas2=areas[5:-1]\n",
    "print(areas2)\n",
    "\n",
    "#sondan başa doğru yazdırma, buna daha sonra bakacağız\n",
    "areas3=areas[-4:-1]\n",
    "print(areas3)"
   ]
  },
  {
   "cell_type": "code",
   "execution_count": 32,
   "metadata": {
    "collapsed": false
   },
   "outputs": [
    {
     "name": "stdout",
     "output_type": "stream",
     "text": [
      "h\n",
      "a\n"
     ]
    }
   ],
   "source": [
    "#matris gibi okuma\n",
    "x=[[\"a\", \"b\", \"c\"],\n",
    "   [\"d\",\"e\",\"f\"],\n",
    "   [\"g\",\"h\",\"i\"]]\n",
    "print(x[-1][1])\n",
    "\n",
    "print(x[0][0])\n"
   ]
  },
  {
   "cell_type": "code",
   "execution_count": 45,
   "metadata": {
    "collapsed": false
   },
   "outputs": [
    {
     "name": "stdout",
     "output_type": "stream",
     "text": [
      "['a', 'b', 'c', 'd']\n"
     ]
    }
   ],
   "source": [
    "#diziye eleman ekleme\n",
    "x=[\"a\",\"b\",\"c\"]\n",
    "x[:]= x+[\"d\"]\n",
    "print(x)\n",
    "#kaçırdım burayı"
   ]
  },
  {
   "cell_type": "code",
   "execution_count": 38,
   "metadata": {
    "collapsed": false
   },
   "outputs": [
    {
     "name": "stdout",
     "output_type": "stream",
     "text": [
      "['a', 'b', 'c']\n",
      "['a', 'c']\n"
     ]
    }
   ],
   "source": [
    "#liste elemanlarını silme, sildikten sonra litedeki eleman sayısını kendisi düzenliyor\n",
    "x=[\"a\",\"b\",\"c\",\"d\"]\n",
    "#son elemanı silme\n",
    "del(x[-1])\n",
    "print(x)\n",
    "#ortadan eleman silme\n",
    "del(x[1])\n",
    "print(x)"
   ]
  },
  {
   "cell_type": "code",
   "execution_count": 46,
   "metadata": {
    "collapsed": false
   },
   "outputs": [
    {
     "name": "stdout",
     "output_type": "stream",
     "text": [
      "['a', 'c']\n"
     ]
    }
   ],
   "source": [
    "#tek seferde silme işlemi, aşağıdaki gibi olmaz, \n",
    "#çünkü y[1] silindikten sonra eleman sayısı yeniden düzenleniyor\n",
    "y=[\"a\",\"b\",\"c\",\"d\"]\n",
    "del(y[1]);del(y[-1])\n",
    "print(y)"
   ]
  },
  {
   "cell_type": "code",
   "execution_count": 47,
   "metadata": {
    "collapsed": false
   },
   "outputs": [
    {
     "name": "stdout",
     "output_type": "stream",
     "text": [
      "[1, 2, 3, 4, 5, 6]\n",
      "[1, 2, 3, 4, 5, 1903]\n"
     ]
    }
   ],
   "source": [
    "areas=[1, 2, 3, 4, 5, 6]\n",
    "print(areas)\n",
    "\n",
    "areas_copy= list(areas)\n",
    "areas_copy[5]=1903\n",
    "print(areas_copy)"
   ]
  },
  {
   "cell_type": "code",
   "execution_count": null,
   "metadata": {
    "collapsed": true
   },
   "outputs": [],
   "source": []
  }
 ],
 "metadata": {
  "kernelspec": {
   "display_name": "Python 2",
   "language": "python",
   "name": "python2"
  },
  "language_info": {
   "codemirror_mode": {
    "name": "ipython",
    "version": 2
   },
   "file_extension": ".py",
   "mimetype": "text/x-python",
   "name": "python",
   "nbconvert_exporter": "python",
   "pygments_lexer": "ipython2",
   "version": "2.7.13"
  }
 },
 "nbformat": 4,
 "nbformat_minor": 2
}
